{
 "cells": [
  {
   "cell_type": "markdown",
   "id": "31637673-d522-4467-9166-c3ec992d8dae",
   "metadata": {},
   "source": [
    "#Data Science Tools and Ecosystem"
   ]
  },
  {
   "cell_type": "markdown",
   "id": "00e2f2ab-72af-40b0-a7ea-189badfd212a",
   "metadata": {},
   "source": [
    "In this notebook, Data Science Tools and Ecosystem are summarized."
   ]
  },
  {
   "cell_type": "markdown",
   "id": "73213be0-76a0-4504-b283-80feb69b0ba9",
   "metadata": {},
   "source": [
    "Some of the popular languages that Data Scientists use are:"
   ]
  },
  {
   "cell_type": "markdown",
   "id": "69fa0187-4729-4191-b1e8-cea60b69bfa5",
   "metadata": {},
   "source": [
    "| Data Science Tools         |\r\n",
    "|---------------------------|\r\n",
    "| Jupyter Notebook          |\r\n",
    "| RStudio                   |\r\n",
    "| Apache Zeppelin           |\r\n",
    "| Spyder                    |\r\n",
    "| Visual Studio Code (VS Code) |\r\n",
    "| Google Colab              |\r\n",
    "| KNIME                     |\r\n",
    "| Orange                    |\r\n",
    "| IBM Watson Studio         |\r\n",
    "| RapidMiner                |\r\n",
    "| Anaconda Navigator        |\r\n",
    "| Atom                      |\r\n"
   ]
  },
  {
   "cell_type": "markdown",
   "id": "96a743a2-8ae7-4421-90c0-170dea96b5b5",
   "metadata": {},
   "source": [
    "### Below are a few examples of evaluating arithmetic expressions in Python.\r\n"
   ]
  },
  {
   "cell_type": "code",
   "execution_count": 8,
   "id": "2c933d30-6f51-48df-9b88-558490b5df68",
   "metadata": {},
   "outputs": [
    {
     "data": {
      "text/plain": [
       "17"
      ]
     },
     "execution_count": 8,
     "metadata": {},
     "output_type": "execute_result"
    }
   ],
   "source": [
    "# This is a simple arithmetic expression to multiply then add integers\n",
    "(3 * 4) + 5\n"
   ]
  },
  {
   "cell_type": "code",
   "execution_count": 10,
   "id": "16ad4cc6-e482-4bf5-9ef9-57ff3046659d",
   "metadata": {},
   "outputs": [
    {
     "data": {
      "text/plain": [
       "3.3333333333333335"
      ]
     },
     "execution_count": 10,
     "metadata": {},
     "output_type": "execute_result"
    }
   ],
   "source": [
    "# This will convert 200 minutes to hours by dividing by 60\n",
    "200 / 60\n"
   ]
  },
  {
   "cell_type": "markdown",
   "id": "d9e9e911-d679-4f8c-8548-f580e03a85f9",
   "metadata": {},
   "source": [
    "**Objectives:**\r\n",
    "\r\n",
    "- List popular languages for Data Science  \r\n",
    "- Introduce commonly used libraries in Data Science  \r\n",
    "- Demonstrate examples of arithmetic expressions in Python  \r\n",
    "- Show how to convert minutes into hours using Python  \r\n",
    "- Create and format tables in Markdown  \r\n"
   ]
  },
  {
   "cell_type": "markdown",
   "id": "32d78361-8110-4e6d-96df-ec3a2c017252",
   "metadata": {},
   "source": [
    "## Author  \r\n",
    "Nisha Rajendran\r\n"
   ]
  },
  {
   "cell_type": "code",
   "execution_count": null,
   "id": "c2f9cd06-7614-43ec-90c9-6714c37f3abe",
   "metadata": {},
   "outputs": [],
   "source": []
  }
 ],
 "metadata": {
  "kernelspec": {
   "display_name": "Python 3 (ipykernel)",
   "language": "python",
   "name": "python3"
  },
  "language_info": {
   "codemirror_mode": {
    "name": "ipython",
    "version": 3
   },
   "file_extension": ".py",
   "mimetype": "text/x-python",
   "name": "python",
   "nbconvert_exporter": "python",
   "pygments_lexer": "ipython3",
   "version": "3.12.4"
  }
 },
 "nbformat": 4,
 "nbformat_minor": 5
}
